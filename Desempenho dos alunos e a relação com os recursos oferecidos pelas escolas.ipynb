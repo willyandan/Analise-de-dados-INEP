{
 "cells": [
  {
   "cell_type": "code",
   "execution_count": 2,
   "metadata": {},
   "outputs": [],
   "source": [
    "import pandas as pd"
   ]
  },
  {
   "cell_type": "code",
   "execution_count": 48,
   "metadata": {},
   "outputs": [
    {
     "name": "stdout",
     "output_type": "stream",
     "text": [
      "<class 'pandas.core.frame.DataFrame'>\n",
      "RangeIndex: 286014 entries, 0 to 286013\n",
      "Data columns (total 9 columns):\n",
      "NU_ANO_CENSO                  286014 non-null int64\n",
      "CO_ENTIDADE                   286014 non-null int64\n",
      "TP_SITUACAO_FUNCIONAMENTO     286014 non-null int64\n",
      "TP_DEPENDENCIA                286014 non-null int64\n",
      "IN_AGUA_INEXISTENTE           183746 non-null float64\n",
      "IN_ENERGIA_INEXISTENTE        183746 non-null float64\n",
      "IN_ESGOTO_INEXISTENTE         183746 non-null float64\n",
      "IN_BIBLIOTECA_SALA_LEITURA    183746 non-null float64\n",
      "IN_BANHEIRO_DENTRO_PREDIO     183746 non-null float64\n",
      "dtypes: float64(5), int64(4)\n",
      "memory usage: 19.6 MB\n"
     ]
    }
   ],
   "source": [
    "escolas_2018 = pd.read_csv(\n",
    "    \"microdados_ed_basica_2018/DADOS/ESCOLAS.csv\", \n",
    "    delimiter='|', \n",
    "    encoding='iso-8859-1', \n",
    "    usecols=['NU_ANO_CENSO', 'CO_ENTIDADE', 'TP_SITUACAO_FUNCIONAMENTO', 'TP_DEPENDENCIA', 'IN_AGUA_INEXISTENTE', 'IN_ENERGIA_INEXISTENTE', 'IN_ESGOTO_INEXISTENTE','IN_BIBLIOTECA_SALA_LEITURA', 'IN_BANHEIRO_DENTRO_PREDIO']\n",
    ")\n",
    "escolas_2018.info()"
   ]
  },
  {
   "cell_type": "code",
   "execution_count": 4,
   "metadata": {},
   "outputs": [
    {
     "name": "stdout",
     "output_type": "stream",
     "text": [
      "<class 'pandas.core.frame.DataFrame'>\n",
      "RangeIndex: 282362 entries, 0 to 282361\n",
      "Data columns (total 9 columns):\n",
      "NU_ANO_CENSO                  282362 non-null int64\n",
      "CO_ENTIDADE                   282362 non-null int64\n",
      "TP_SITUACAO_FUNCIONAMENTO     282362 non-null int64\n",
      "TP_DEPENDENCIA                282362 non-null int64\n",
      "IN_AGUA_INEXISTENTE           185925 non-null float64\n",
      "IN_ENERGIA_INEXISTENTE        185925 non-null float64\n",
      "IN_ESGOTO_INEXISTENTE         185925 non-null float64\n",
      "IN_BIBLIOTECA_SALA_LEITURA    185925 non-null float64\n",
      "IN_BANHEIRO_DENTRO_PREDIO     185925 non-null float64\n",
      "dtypes: float64(5), int64(4)\n",
      "memory usage: 19.4 MB\n"
     ]
    }
   ],
   "source": [
    "escolas_2017 = pd.read_csv(\n",
    "    \"Microdados_Censo_Escolar_2017/DADOS/ESCOLAS.csv\", \n",
    "    delimiter='|', \n",
    "    encoding='iso-8859-1', \n",
    "    usecols=['NU_ANO_CENSO', 'CO_ENTIDADE', 'TP_SITUACAO_FUNCIONAMENTO', 'TP_DEPENDENCIA', 'IN_AGUA_INEXISTENTE', 'IN_ENERGIA_INEXISTENTE', 'IN_ESGOTO_INEXISTENTE','IN_BIBLIOTECA_SALA_LEITURA', 'IN_BANHEIRO_DENTRO_PREDIO']\n",
    ")\n",
    "escolas_2017.info()"
   ]
  },
  {
   "cell_type": "code",
   "execution_count": 5,
   "metadata": {},
   "outputs": [
    {
     "name": "stdout",
     "output_type": "stream",
     "text": [
      "<class 'pandas.core.frame.DataFrame'>\n",
      "RangeIndex: 279358 entries, 0 to 279357\n",
      "Data columns (total 9 columns):\n",
      "NU_ANO_CENSO                  279358 non-null int64\n",
      "CO_ENTIDADE                   279358 non-null int64\n",
      "TP_SITUACAO_FUNCIONAMENTO     279358 non-null int64\n",
      "TP_DEPENDENCIA                279358 non-null int64\n",
      "IN_AGUA_INEXISTENTE           187891 non-null float64\n",
      "IN_ENERGIA_INEXISTENTE        187891 non-null float64\n",
      "IN_ESGOTO_INEXISTENTE         187891 non-null float64\n",
      "IN_BIBLIOTECA_SALA_LEITURA    187891 non-null float64\n",
      "IN_BANHEIRO_DENTRO_PREDIO     187891 non-null float64\n",
      "dtypes: float64(5), int64(4)\n",
      "memory usage: 19.2 MB\n"
     ]
    }
   ],
   "source": [
    "escolas_2016 = pd.read_csv(\n",
    "    \"micro_censo_escolar_2016/DADOS/ESCOLAS.csv\", \n",
    "    delimiter='|', \n",
    "    encoding='iso-8859-1', \n",
    "    usecols=['NU_ANO_CENSO', 'CO_ENTIDADE', 'TP_SITUACAO_FUNCIONAMENTO', 'TP_DEPENDENCIA', 'IN_AGUA_INEXISTENTE', 'IN_ENERGIA_INEXISTENTE', 'IN_ESGOTO_INEXISTENTE','IN_BIBLIOTECA_SALA_LEITURA', 'IN_BANHEIRO_DENTRO_PREDIO']\n",
    ")\n",
    "escolas_2016.info()"
   ]
  },
  {
   "cell_type": "code",
   "execution_count": 6,
   "metadata": {},
   "outputs": [
    {
     "name": "stdout",
     "output_type": "stream",
     "text": [
      "<class 'pandas.core.frame.DataFrame'>\n",
      "RangeIndex: 272996 entries, 0 to 272995\n",
      "Data columns (total 9 columns):\n",
      "NU_ANO_CENSO                  272996 non-null int64\n",
      "CO_ENTIDADE                   272996 non-null int64\n",
      "TP_SITUACAO_FUNCIONAMENTO     272996 non-null int64\n",
      "TP_DEPENDENCIA                272996 non-null int64\n",
      "IN_AGUA_INEXISTENTE           188689 non-null float64\n",
      "IN_ENERGIA_INEXISTENTE        188689 non-null float64\n",
      "IN_ESGOTO_INEXISTENTE         188689 non-null float64\n",
      "IN_BIBLIOTECA_SALA_LEITURA    188689 non-null float64\n",
      "IN_BANHEIRO_DENTRO_PREDIO     188689 non-null float64\n",
      "dtypes: float64(5), int64(4)\n",
      "memory usage: 18.7 MB\n"
     ]
    }
   ],
   "source": [
    "escolas_2015 = pd.read_csv(\n",
    "    \"micro_censo_escolar_2015/DADOS/ESCOLAS.csv\", \n",
    "    delimiter='|', \n",
    "    encoding='iso-8859-1', \n",
    "    usecols=['NU_ANO_CENSO', 'CO_ENTIDADE', 'TP_SITUACAO_FUNCIONAMENTO', 'TP_DEPENDENCIA', 'IN_AGUA_INEXISTENTE', 'IN_ENERGIA_INEXISTENTE', 'IN_ESGOTO_INEXISTENTE','IN_BIBLIOTECA_SALA_LEITURA', 'IN_BANHEIRO_DENTRO_PREDIO']\n",
    ")\n",
    "escolas_2015.info()"
   ]
  },
  {
   "cell_type": "code",
   "execution_count": 7,
   "metadata": {},
   "outputs": [
    {
     "name": "stdout",
     "output_type": "stream",
     "text": [
      "<class 'pandas.core.frame.DataFrame'>\n",
      "Int64Index: 1120730 entries, 0 to 272995\n",
      "Data columns (total 9 columns):\n",
      "CO_ENTIDADE                   1120730 non-null int64\n",
      "IN_AGUA_INEXISTENTE           746251 non-null float64\n",
      "IN_BANHEIRO_DENTRO_PREDIO     746251 non-null float64\n",
      "IN_BIBLIOTECA_SALA_LEITURA    746251 non-null float64\n",
      "IN_ENERGIA_INEXISTENTE        746251 non-null float64\n",
      "IN_ESGOTO_INEXISTENTE         746251 non-null float64\n",
      "NU_ANO_CENSO                  1120730 non-null int64\n",
      "TP_DEPENDENCIA                1120730 non-null int64\n",
      "TP_SITUACAO_FUNCIONAMENTO     1120730 non-null int64\n",
      "dtypes: float64(5), int64(4)\n",
      "memory usage: 85.5 MB\n"
     ]
    }
   ],
   "source": [
    "escolas = pd.concat([escolas_2018, escolas_2017, escolas_2016, escolas_2015],sort='CO_ENTIDADE')\n",
    "escolas.info()"
   ]
  },
  {
   "cell_type": "code",
   "execution_count": 8,
   "metadata": {},
   "outputs": [
    {
     "data": {
      "text/html": [
       "<div>\n",
       "<style scoped>\n",
       "    .dataframe tbody tr th:only-of-type {\n",
       "        vertical-align: middle;\n",
       "    }\n",
       "\n",
       "    .dataframe tbody tr th {\n",
       "        vertical-align: top;\n",
       "    }\n",
       "\n",
       "    .dataframe thead th {\n",
       "        text-align: right;\n",
       "    }\n",
       "</style>\n",
       "<table border=\"1\" class=\"dataframe\">\n",
       "  <thead>\n",
       "    <tr style=\"text-align: right;\">\n",
       "      <th></th>\n",
       "      <th>CO_ENTIDADE</th>\n",
       "      <th>IN_AGUA_INEXISTENTE</th>\n",
       "      <th>IN_BANHEIRO_DENTRO_PREDIO</th>\n",
       "      <th>IN_BIBLIOTECA_SALA_LEITURA</th>\n",
       "      <th>IN_ENERGIA_INEXISTENTE</th>\n",
       "      <th>IN_ESGOTO_INEXISTENTE</th>\n",
       "      <th>NU_ANO_CENSO</th>\n",
       "      <th>TP_DEPENDENCIA</th>\n",
       "      <th>TP_SITUACAO_FUNCIONAMENTO</th>\n",
       "    </tr>\n",
       "  </thead>\n",
       "  <tbody>\n",
       "    <tr>\n",
       "      <th>0</th>\n",
       "      <td>11022370</td>\n",
       "      <td>0.0</td>\n",
       "      <td>0.0</td>\n",
       "      <td>0.0</td>\n",
       "      <td>0.0</td>\n",
       "      <td>0.0</td>\n",
       "      <td>2018</td>\n",
       "      <td>3</td>\n",
       "      <td>1</td>\n",
       "    </tr>\n",
       "    <tr>\n",
       "      <th>1</th>\n",
       "      <td>11022388</td>\n",
       "      <td>0.0</td>\n",
       "      <td>1.0</td>\n",
       "      <td>0.0</td>\n",
       "      <td>0.0</td>\n",
       "      <td>0.0</td>\n",
       "      <td>2018</td>\n",
       "      <td>3</td>\n",
       "      <td>1</td>\n",
       "    </tr>\n",
       "    <tr>\n",
       "      <th>2</th>\n",
       "      <td>11022450</td>\n",
       "      <td>0.0</td>\n",
       "      <td>1.0</td>\n",
       "      <td>1.0</td>\n",
       "      <td>0.0</td>\n",
       "      <td>0.0</td>\n",
       "      <td>2018</td>\n",
       "      <td>2</td>\n",
       "      <td>1</td>\n",
       "    </tr>\n",
       "    <tr>\n",
       "      <th>3</th>\n",
       "      <td>11022469</td>\n",
       "      <td>0.0</td>\n",
       "      <td>1.0</td>\n",
       "      <td>0.0</td>\n",
       "      <td>0.0</td>\n",
       "      <td>0.0</td>\n",
       "      <td>2018</td>\n",
       "      <td>3</td>\n",
       "      <td>1</td>\n",
       "    </tr>\n",
       "    <tr>\n",
       "      <th>4</th>\n",
       "      <td>11022558</td>\n",
       "      <td>0.0</td>\n",
       "      <td>0.0</td>\n",
       "      <td>0.0</td>\n",
       "      <td>0.0</td>\n",
       "      <td>0.0</td>\n",
       "      <td>2018</td>\n",
       "      <td>2</td>\n",
       "      <td>1</td>\n",
       "    </tr>\n",
       "  </tbody>\n",
       "</table>\n",
       "</div>"
      ],
      "text/plain": [
       "   CO_ENTIDADE  IN_AGUA_INEXISTENTE  IN_BANHEIRO_DENTRO_PREDIO  \\\n",
       "0     11022370                  0.0                        0.0   \n",
       "1     11022388                  0.0                        1.0   \n",
       "2     11022450                  0.0                        1.0   \n",
       "3     11022469                  0.0                        1.0   \n",
       "4     11022558                  0.0                        0.0   \n",
       "\n",
       "   IN_BIBLIOTECA_SALA_LEITURA  IN_ENERGIA_INEXISTENTE  IN_ESGOTO_INEXISTENTE  \\\n",
       "0                         0.0                     0.0                    0.0   \n",
       "1                         0.0                     0.0                    0.0   \n",
       "2                         1.0                     0.0                    0.0   \n",
       "3                         0.0                     0.0                    0.0   \n",
       "4                         0.0                     0.0                    0.0   \n",
       "\n",
       "   NU_ANO_CENSO  TP_DEPENDENCIA  TP_SITUACAO_FUNCIONAMENTO  \n",
       "0          2018               3                          1  \n",
       "1          2018               3                          1  \n",
       "2          2018               2                          1  \n",
       "3          2018               3                          1  \n",
       "4          2018               2                          1  "
      ]
     },
     "execution_count": 8,
     "metadata": {},
     "output_type": "execute_result"
    }
   ],
   "source": [
    "escola_pub = escolas[escolas[\"TP_DEPENDENCIA\"] != 4]\n",
    "escola_pub.head()"
   ]
  },
  {
   "cell_type": "code",
   "execution_count": 9,
   "metadata": {},
   "outputs": [],
   "source": [
    "import matplotlib.pyplot as plt"
   ]
  },
  {
   "cell_type": "code",
   "execution_count": 10,
   "metadata": {},
   "outputs": [],
   "source": [
    "plt.rcParams['figure.figsize'] = (11,7)"
   ]
  },
  {
   "cell_type": "code",
   "execution_count": 29,
   "metadata": {},
   "outputs": [
    {
     "data": {
      "text/plain": [
       "NU_ANO_CENSO\n",
       "2015    148203\n",
       "2016    147175\n",
       "2017    145190\n",
       "2018    142373\n",
       "Name: CO_ENTIDADE, dtype: int64"
      ]
     },
     "execution_count": 29,
     "metadata": {},
     "output_type": "execute_result"
    }
   ],
   "source": [
    "atividade = escola_pub[escola_pub['TP_SITUACAO_FUNCIONAMENTO'] == 1].groupby('NU_ANO_CENSO').count()['CO_ENTIDADE']\n",
    "atividade"
   ]
  },
  {
   "cell_type": "code",
   "execution_count": 30,
   "metadata": {},
   "outputs": [
    {
     "data": {
      "text/plain": [
       "NU_ANO_CENSO\n",
       "2015    34292\n",
       "2016    36253\n",
       "2017    36982\n",
       "2018    32712\n",
       "Name: CO_ENTIDADE, dtype: int64"
      ]
     },
     "execution_count": 30,
     "metadata": {},
     "output_type": "execute_result"
    }
   ],
   "source": [
    "inatividade = escola_pub[escola_pub['TP_SITUACAO_FUNCIONAMENTO'] == 2].groupby('NU_ANO_CENSO').count()['CO_ENTIDADE']\n",
    "inatividade"
   ]
  },
  {
   "cell_type": "code",
   "execution_count": 54,
   "metadata": {},
   "outputs": [
    {
     "data": {
      "image/png": "[encoded data removed]",
      "text/plain": [
       "<Figure size 792x504 with 1 Axes>"
      ]
     },
     "metadata": {
      "needs_background": "light"
     },
     "output_type": "display_data"
    }
   ],
   "source": [
    "rate_inatividade = pd.DataFrame((inatividade / atividade) * 100)\n",
    "rate_inatividade.plot(kind='line')\n",
    "plt.title('COMPARAÇÃO ENTRE ESCOLAS ATIVAS E INATIVAS POR ANO')\n",
    "plt.xlabel('ANOS')\n",
    "plt.ylabel('ESCOLAS INATIVAS (%)')\n",
    "plt.show()\n"
   ]
  },
  {
   "cell_type": "code",
   "execution_count": 52,
   "metadata": {},
   "outputs": [
    {
     "data": {
      "image/png": "[encoded data removed]",
      "text/plain": [
       "<Figure size 792x504 with 1 Axes>"
      ]
     },
     "metadata": {
      "needs_background": "light"
     },
     "output_type": "display_data"
    }
   ],
   "source": [
    "recursos_x_anos = escola_pub[\n",
    "    ['IN_AGUA_INEXISTENTE','IN_BANHEIRO_DENTRO_PREDIO','IN_ENERGIA_INEXISTENTE','IN_ESGOTO_INEXISTENTE','NU_ANO_CENSO']\n",
    "].groupby('NU_ANO_CENSO').sum()\n",
    "recursos_x_anos[['IN_AGUA_INEXISTENTE','IN_ENERGIA_INEXISTENTE', 'IN_ESGOTO_INEXISTENTE']].plot(kind='bar')\n",
    "plt.title('RECURSOS INEXISTENTES POR ANO')\n",
    "plt.xlabel('ANOS')\n",
    "plt.ylabel('RECURSOS')\n",
    "plt.show()"
   ]
  },
  {
   "cell_type": "code",
   "execution_count": 53,
   "metadata": {},
   "outputs": [
    {
     "data": {
      "image/png": "[encoded data removed]",
      "text/plain": [
       "<Figure size 792x504 with 1 Axes>"
      ]
     },
     "metadata": {
      "needs_background": "light"
     },
     "output_type": "display_data"
    }
   ],
   "source": [
    "recursos2 = escola_pub[\n",
    "    ['IN_BANHEIRO_DENTRO_PREDIO','IN_BIBLIOTECA_SALA_LEITURA','NU_ANO_CENSO']\n",
    "].groupby('NU_ANO_CENSO').sum()\n",
    "recursos2.plot(kind='bar')\n",
    "plt.title('RECURSOS EXISTENTES POR ANO')\n",
    "plt.xlabel('ANOS')\n",
    "plt.ylabel('RECURSOS')\n",
    "plt.show()"
   ]
  },
  {
   "cell_type": "code",
   "execution_count": null,
   "metadata": {},
   "outputs": [],
   "source": []
  }
 ],
 "metadata": {
  "kernelspec": {
   "display_name": "Python 3",
   "language": "python",
   "name": "python3"
  },
  "language_info": {
   "codemirror_mode": {
    "name": "ipython",
    "version": 3
   },
   "file_extension": ".py",
   "mimetype": "text/x-python",
   "name": "python",
   "nbconvert_exporter": "python",
   "pygments_lexer": "ipython3",
   "version": "3.7.3"
  }
 },
 "nbformat": 4,
 "nbformat_minor": 2
}
